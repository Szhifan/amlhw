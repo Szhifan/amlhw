{
 "cells": [
  {
   "cell_type": "code",
   "execution_count": 1,
   "metadata": {},
   "outputs": [],
   "source": [
    "#Import pacakges \n",
    "import numpy as np \n",
    "import pandas as pd\n",
    "import matplotlib.pyplot as plt\n",
    "# import seaborn as sns\n",
    "from sklearn.model_selection import train_test_split\n",
    "from sklearn.neighbors import KNeighborsClassifier\n",
    "from sklearn.metrics import confusion_matrix, log_loss, accuracy_score, f1_score\n",
    "from sklearn.naive_bayes import MultinomialNB\n",
    "from sklearn.linear_model import LogisticRegression\n",
    "import pickle\n",
    "from sklearn.tree import DecisionTreeClassifier\n",
    "from sklearn.ensemble import RandomForestClassifier"
   ]
  },
  {
   "cell_type": "code",
   "execution_count": 4,
   "metadata": {},
   "outputs": [],
   "source": [
    "#plot distribution of zero vectors in each class\n",
    "file_path=\"figures/zero_vec_frq_in_class.png\"\n",
    "vec=np.load(\"nparrs/feature_vectors.npy\")\n"
   ]
  },
  {
   "cell_type": "code",
   "execution_count": 7,
   "metadata": {},
   "outputs": [],
   "source": [
    "#vectors \n",
    "x=np.load(\"nparrs/vec2.npy\")\n",
    "\n",
    "\n",
    "neg_x=np.load(\"nparrs/neg_vec2.npy\")\n",
    "df=pickle.load(open(\"df_data/phrases_data3.df\",\"rb\"))\n",
    "y=df[\"label\"]\n",
    "\n",
    "y[(y==\"1\") | (y==\"2\")]=\"neg\"\n",
    "y[(y==\"5\") | (y==\"4\")|(y==\"3\")]=\"pos\"\n",
    "\n",
    "x_tr,x_ts,y_tr,y_ts=train_test_split(neg_x,y,shuffle=True,test_size=0.2)\n",
    "\n",
    "\n"
   ]
  },
  {
   "cell_type": "code",
   "execution_count": 9,
   "metadata": {},
   "outputs": [
    {
     "data": {
      "text/plain": [
       "0.8171655450116858"
      ]
     },
     "execution_count": 9,
     "metadata": {},
     "output_type": "execute_result"
    }
   ],
   "source": [
    "model=DecisionTreeClassifier()\n",
    "model.fit(x_tr,y_tr)\n",
    "save_path=\"models/knn.model\"\n",
    "# pickle.dump(model,open(save_path,\"wb\"))\n",
    "accuracy_score(y_ts,model.predict(x_ts))"
   ]
  },
  {
   "cell_type": "code",
   "execution_count": null,
   "metadata": {},
   "outputs": [],
   "source": [
    "a=[]\n",
    "for i in range(1,6):\n",
    "    a.append(np.sum(df[df[\"label\"]==str(i)][\"keywords\"]==\"\")) \n",
    "\n",
    "sns.barplot(list(range(1,6)),a)\n",
    "plt.savefig(\"figures/empty_frq.png\")\n",
    "    "
   ]
  },
  {
   "cell_type": "code",
   "execution_count": 20,
   "metadata": {},
   "outputs": [
    {
     "data": {
      "text/plain": [
       "0.7063479373201151"
      ]
     },
     "execution_count": 20,
     "metadata": {},
     "output_type": "execute_result"
    }
   ],
   "source": [
    "#knn: \n",
    "knn1=KNeighborsClassifier(n_neighbors=10)\n",
    "knn1.fit(x_tr,y_tr)\n",
    "accuracy_score(y_ts,knn1.predict(x_ts))"
   ]
  },
  {
   "cell_type": "code",
   "execution_count": 33,
   "metadata": {},
   "outputs": [
    {
     "data": {
      "text/plain": [
       "0.7229772945314998"
      ]
     },
     "execution_count": 33,
     "metadata": {},
     "output_type": "execute_result"
    }
   ],
   "source": [
    "dt=DecisionTreeClassifier(max_depth=200,criterion=\"entropy\")\n",
    "dt.fit(x_tr,y_tr)\n",
    "accuracy_score(y_ts,dt.predict(x_ts))"
   ]
  },
  {
   "cell_type": "code",
   "execution_count": 7,
   "metadata": {},
   "outputs": [
    {
     "data": {
      "text/plain": [
       "Index(['id', 'phrase', 'lemma', 'keywords', 'label', 'neg_keywords'], dtype='object')"
      ]
     },
     "execution_count": 7,
     "metadata": {},
     "output_type": "execute_result"
    }
   ],
   "source": [
    "#play with spacy \n",
    "import spacy \n",
    "nlp = spacy.load(\"en_core_web_sm\")\n",
    "p"
   ]
  }
 ],
 "metadata": {
  "interpreter": {
   "hash": "621fad8639f0e819ea227790d26616985f0e3aee333c596e8794e5fdeb33f211"
  },
  "kernelspec": {
   "display_name": "Python 3.9.12 ('base')",
   "language": "python",
   "name": "python3"
  },
  "language_info": {
   "codemirror_mode": {
    "name": "ipython",
    "version": 3
   },
   "file_extension": ".py",
   "mimetype": "text/x-python",
   "name": "python",
   "nbconvert_exporter": "python",
   "pygments_lexer": "ipython3",
   "version": "3.9.12"
  },
  "orig_nbformat": 4
 },
 "nbformat": 4,
 "nbformat_minor": 2
}
